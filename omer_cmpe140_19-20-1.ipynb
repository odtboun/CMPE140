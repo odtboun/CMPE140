{
 "cells": [
  {
   "cell_type": "code",
   "execution_count": null,
   "metadata": {},
   "outputs": [],
   "source": [
    "options(jupyter.rich_display = F)"
   ]
  },
  {
   "cell_type": "markdown",
   "metadata": {
    "tags": [
     "rnorm",
     "2019-2020",
     "omer",
     "easy",
     "vector",
     "RNG"
    ]
   },
   "source": [
    "# GRADE STATS"
   ]
  },
  {
   "cell_type": "markdown",
   "metadata": {},
   "source": [
    "## QUESTION"
   ]
  },
  {
   "cell_type": "markdown",
   "metadata": {},
   "source": [
    "1) Run the following code in RStudio\n",
    "```\n",
    "RNGversion(\"3.3.1\")\n",
    "set.seed(1903)\n",
    "```\n",
    "2) Create a vector called **\"grades\"** that contains the normally distributed grades of 80 CMPE140 students with a mean of 55 and a standart deviation of 1.2\n",
    "\n",
    "3) Create a vector called **\"grade_stats\"** which contains median, minimum, maximum and mean values of students' grades as such:\n",
    "\n",
    "```\n",
    "median  minimum  maximum     mean \n",
    "55.09072 52.50898 57.06178 54.99794 \n",
    "```\n",
    "\n",
    "\n",
    "**Hint:** You can use **range()** function to find the minimum and maximum values of the vector."
   ]
  },
  {
   "cell_type": "markdown",
   "metadata": {},
   "source": [
    "## SOLUTION"
   ]
  },
  {
   "cell_type": "code",
   "execution_count": null,
   "metadata": {},
   "outputs": [],
   "source": [
    "#1\n",
    "RNGversion(\"3.3.1\")\n",
    "set.seed(1903)\n",
    "\n",
    "#2\n",
    "grades <- rnorm(80 , mean = 55 , sd = 1.2 )\n",
    "\n",
    "#3 \n",
    "grade_stats <- c( median(grades) , range(grades) , mean(grades))\n",
    "\n",
    "names(grade_stats) <- c(\"median\", \"minimum\", \"maximum\" , \"mean\")\n",
    "\n",
    "grade_stats"
   ]
  },
  {
   "cell_type": "markdown",
   "metadata": {
    "tags": [
     "hard",
     "2019-2020",
     "omer",
     "line",
     "plot"
    ]
   },
   "source": [
    "# GDP GROWTH OF TURKEY"
   ]
  },
  {
   "cell_type": "markdown",
   "metadata": {},
   "source": [
    "## QUESTION"
   ]
  },
  {
   "cell_type": "markdown",
   "metadata": {},
   "source": [
    "1) GDP of Turkey in 2008 is 764336 Billion Dollars. Create a variable named **\"gdp_2008\"** and assing the value 764336 to it\n",
    "\n",
    "2) GDP growth rates of Turkey from 2009 to 2018 are as follows: -4.7 , 8.5 , 11.1 , 4.8 , 8.5 , 5.2 , 6.1 , 3.2 , 7.4 , 2.6 . Create a vector called **\"growth_rates\"** that contains these values. \n",
    "\n",
    "3) Create a vector named **\"all_gdp\"** that contains GDP values of Turkey from 2008 to 2018\n",
    "\n",
    "4) Create a plot with years on x-axis and GDP values on y-axis as such:\n",
    "\n",
    "![GDP plot](gdploturkey.png)\n",
    "\n",
    "**Hint:** You can use **cumsum()** function to calculate GDP values simultaneously."
   ]
  },
  {
   "cell_type": "markdown",
   "metadata": {},
   "source": [
    "## SOLUTION"
   ]
  },
  {
   "cell_type": "code",
   "execution_count": null,
   "metadata": {},
   "outputs": [],
   "source": [
    "#1\n",
    "gdp_2008 <- 764336 \n",
    "\n",
    "#2\n",
    "growth_rates <- c(-4.7 , 8.5 , 11.1 , 4.8 , 8.5 , 5.2 , 6.1 , 3.2 , 7.4 , 2.6)\n",
    "\n",
    "#3\n",
    "all_gdp <-  gdp_2008 * c(1 , cumprod(( growth_rates + 100)/100))\n",
    "\n",
    "#4\n",
    "years <- c(2008 : 2018)\n",
    "plot( years , all_gdp , type=\"l\", xlab = \"Years\" , ylab = \"GDP\")"
   ]
  },
  {
   "cell_type": "markdown",
   "metadata": {
    "tags": [
     "2019-2020-2",
     "omer",
     "hard",
     "functions",
     "sort"
    ]
   },
   "source": [
    "# DREAM TEAM"
   ]
  },
  {
   "cell_type": "markdown",
   "metadata": {},
   "source": [
    "## QUESTION"
   ]
  },
  {
   "cell_type": "markdown",
   "metadata": {},
   "source": [
    "A physical education teacher wants to form a basketball team of 6 students for an upcoming school tournament.\n",
    "\n",
    "The teacher always prefers a taller player to a shorter one and according to the tournament rules each team must announce their players' average age\n",
    "\n",
    "Heights and ages of students who want to play in the tournament are as follows:\n",
    "\n",
    "* Boran: 1.88 , 18\n",
    "* Emre: 2.03 , 15\n",
    "* Cihan: 1.85 , 18\n",
    "* Melisa: 1.77 , 18\n",
    "* Berk: 1.80 , 17\n",
    "* Alp: 1.97 , 16\n",
    "* Selin: 1.90 , 15\n",
    "* Mustafa: 1.70 ,16\n",
    "* Nazlı: 1.82 ,18\n",
    "\n",
    "1) Create 3 vectors: a vector called **\"names_1\"** that contains the names of the students, a vector called **\"heights_1\"** that contains heights of the students and a vector called **\"ages_1\"** that contains ages of the students.\n",
    "\n",
    "2) Create a function called **\"dreamteam\"** that takes 3 arguments **\"name\"** , **\"height\"** and **\"age\"**. This function should return a vector that contains names and age avarage of the players that teacher chooses as such: \n",
    "\n",
    "``` r\n",
    "dreamteam(names_1, heights_1, ages_1)\n",
    "[1] \"Mustafa\" \"Melisa\"  \"Berk\"    \"Cihan\"   \"Boran\"   \"Selin\"  \n",
    "[7] \"17\" \n",
    "```\n",
    "\n",
    "\n"
   ]
  },
  {
   "cell_type": "markdown",
   "metadata": {},
   "source": [
    "## SOLUTION"
   ]
  },
  {
   "cell_type": "code",
   "execution_count": null,
   "metadata": {},
   "outputs": [],
   "source": [
    "#1\n",
    "names_1 <- c(\"Boran\", \"Emre\", \"Cihan\", \"Melisa\", \"Berk\", \"Alp\", \"Selin\", \"Mustafa\", \"Nazli\")\n",
    "heights_1 <- c(1.88, 2.03, 1.85, 1.77, 1.80, 1.97, 1.90, 1.70, 182)\n",
    "ages_1 <- c(18, 15, 18, 18, 17, 16, 15, 16, 18)\n",
    "\n",
    "#2\n",
    "dreamteam <- function(name, height, age)\n",
    "{\n",
    "  team <- name[order(height)][1:6]\n",
    "  aver_age <- sum(age[order(height)][1:6])/6 \n",
    "  return(c(team, aver_age))\n",
    "}\n",
    "\n",
    "dreamteam(names_1, heights_1, ages_1)"
   ]
  },
  {
   "cell_type": "markdown",
   "metadata": {
    "tags": [
     "2019-2020-1",
     "omer",
     "medium",
     "functions",
     "if",
     "else"
    ]
   },
   "source": [
    "# A BURGER FOR YOU"
   ]
  },
  {
   "cell_type": "markdown",
   "metadata": {},
   "source": [
    "## QUESTION"
   ]
  },
  {
   "cell_type": "markdown",
   "metadata": {},
   "source": [
    "A fast food restaurant has 8 different types of burgers in their menu\n",
    "\n",
    "Burgers' names and some of their ingredients are given below:\n",
    "\n",
    "|Buger Name|Chicken / Meat| Cheese | Pickles|\n",
    "|---|---|---|---|\n",
    "|Hooper|Meat|Yes|Yes\n",
    "|Big Mack|Meat|No|No\n",
    "|Meat Royale|Meat|No|Yes\n",
    "|Mr Chicken|Chicken|Yes|No\n",
    "|Pick Me|Chicken|No|No\n",
    "|Cow Boy|Meat|Yes|No\n",
    "|Quarter Kilo|Chicken|No|Yes\n",
    "|Serious Taste|Chicken|Yes|Yes\n",
    "\n",
    "1) Create function called **\"your_burger\"** that takes 3 arguments **\"MorC\"** , **\"Cheese\"** , **\"Pickles\"**. This function should return a burger name that matches costumers' preferences as such:\n",
    "\n",
    "```r\n",
    "your_burger(MorC = \"Chicken\", Cheese = \"Yes\", Pickles = \"Yes\")\n",
    "[1] \"Serious Taste\"\n",
    "```\n",
    "\n",
    "**Hint:** If the customer wants anything other than meat and cheese (fish etc.), you can ignore their request and just give a burger with chicken"
   ]
  },
  {
   "cell_type": "markdown",
   "metadata": {},
   "source": [
    "## SOLUTION"
   ]
  },
  {
   "cell_type": "code",
   "execution_count": null,
   "metadata": {},
   "outputs": [],
   "source": [
    "your_burger<-function(MorC, Cheese, Pickles)\n",
    "{\n",
    "  if (MorC==\"Meat\")\n",
    "  {\n",
    "    if (Cheese==\"Yes\")\n",
    "    {\n",
    "      if (Pickles==\"Yes\")\n",
    "      {\n",
    "        return(\"Hooper\")\n",
    "      }\n",
    "      else \n",
    "        {\n",
    "        return(\"Cow Boy\")\n",
    "        }\n",
    "    }\n",
    "    else\n",
    "    {\n",
    "      if (Pickles==\"Yes\")\n",
    "      {\n",
    "        return(\"Meat Royale\")\n",
    "      }\n",
    "      else \n",
    "      {\n",
    "          return(\"Big Mack\")\n",
    "      }\n",
    "    }\n",
    "  }\n",
    "  else\n",
    "  {\n",
    "    if (Cheese==\"Yes\")\n",
    "    {\n",
    "      if (Pickles==\"Yes\")\n",
    "      {\n",
    "        return(\"Serious Taste\")\n",
    "      }\n",
    "      else return(\"Mr Chicken\")\n",
    "    }\n",
    "    else\n",
    "    {\n",
    "      if (Pickles==\"Yes\")\n",
    "      {\n",
    "        return(\"Quarter Kilo\")\n",
    "      }\n",
    "      else return(\"Pick Me\")\n",
    "    }\n",
    "  }\n",
    "} \n",
    "\n"
   ]
  },
  {
   "cell_type": "markdown",
   "metadata": {
    "tags": [
     "2019-2020-1",
     "omer",
     "medium",
     "functions",
     "if",
     "else",
     "RNG"
    ]
   },
   "source": [
    "# GUESS THE NUMBER"
   ]
  },
  {
   "cell_type": "markdown",
   "metadata": {},
   "source": [
    "## QUESTION"
   ]
  },
  {
   "cell_type": "markdown",
   "metadata": {},
   "source": [
    "Two friends want to play a game based on guessing numbers\n",
    "\n",
    "1) set seed to 1555\n",
    "\n",
    "2) Create a function **\"guess_check\"** with an argument called *guess*. This function should generate a random number between 1 and 100, then tell if that number is the same with the guess.\n",
    "\n",
    "3) This function should either return \"Your guess is correct!\" or \"Your guess is incorrect!\"\n",
    "\n",
    "```r\n",
    "guess_check(4)\n",
    "[1] \"Your guess is incorrect!\"\n",
    "```\n"
   ]
  },
  {
   "cell_type": "markdown",
   "metadata": {},
   "source": [
    "## SOLUTION"
   ]
  },
  {
   "cell_type": "code",
   "execution_count": null,
   "metadata": {},
   "outputs": [],
   "source": [
    "RNGversion=\"3.3.1\"\n",
    "set.seed(1555)\n",
    "\n",
    "#1\n",
    "guess_check <- function(guess)\n",
    "{\n",
    "  x <- sample(1:100, 1)\n",
    "  if (x == guess)\n",
    "  {\n",
    "    return( \"Your guess is correct!\")\n",
    "  }\n",
    "  else\n",
    "  {\n",
    "    return(\"Your guess is incorrect!\")  \n",
    "  }\n",
    "}"
   ]
  },
  {
   "cell_type": "markdown",
   "metadata": {
    "tags": [
     "2018-2019-2",
     "omer",
     "hard",
     "loops",
     "if",
     "else",
     "repeat"
    ]
   },
   "source": [
    "# ROCK PAPER STRATEGY"
   ]
  },
  {
   "cell_type": "markdown",
   "metadata": {},
   "source": [
    "## QUESTION"
   ]
  },
  {
   "cell_type": "markdown",
   "metadata": {},
   "source": [
    "  We will play rock paper scissors with 2 people\n",
    "  Each turn, they will randomly choose strategies.\n",
    "  \n",
    "1)  Create **\"strategies\"** vector that contains 3 possible strategies that are \"rock\", \"paper\", \"scissors\".\n",
    "\n",
    "2)  Create a function called **\"rps_game\"** that plays n times this game. It should return scores of two people, 1 for wins, 0 for losses and 0.5 s for draws.\n",
    "\n",
    "3)  Set seed to 97.\n",
    "\n",
    "**Obligation:**  Use repeat function.\n",
    "\n",
    "**Hint:**  You have to use counter to play n times. You can call it i and with every loop, it has to be updated.\n",
    "\n",
    "**Hint:**  You have to hold strategies played randomly each time in a variable. You can use sp1 and sp2 for that.\n",
    "\n",
    "**Hint:**  You have to count scores each turn adding to previous scores of players. You can use p1 and p2 for that.\n",
    "\n",
    "```r\n",
    "rps_game(10)\n",
    "3.5 6.5 \n",
    "\n",
    "\n",
    "```"
   ]
  },
  {
   "cell_type": "markdown",
   "metadata": {},
   "source": [
    "## SOLUTION"
   ]
  },
  {
   "cell_type": "code",
   "execution_count": null,
   "metadata": {},
   "outputs": [],
   "source": [
    "#1\n",
    "strategies <- c(\"rock\", \"paper\", \"scissors\")\n",
    "\n",
    "\n",
    "#2\n",
    "rps_game <- function(n)\n",
    "{\n",
    "  i <- 0\n",
    "  p1 <- 0\n",
    "  p2 <- 0\n",
    "  repeat\n",
    "  {\n",
    "    sp1 <- sample(strategies, 1, T)\n",
    "    sp2 <- sample(strategies, 1, T)\n",
    "    if(sp1 == \"rock\")\n",
    "    {\n",
    "      if(sp2 == \"rock\")\n",
    "      {\n",
    "        p1 <- p1 + 0.5\n",
    "        p2 <- p2 + 0.5\n",
    "      }\n",
    "      else if(sp2 == \"paper\")\n",
    "      {\n",
    "        p2 <- p2 + 1\n",
    "      }\n",
    "      else\n",
    "      {\n",
    "        p1 <- p1 + 1\n",
    "      }\n",
    "    }\n",
    "    else if(sp1 == \"paper\")\n",
    "    {\n",
    "      if(sp2 == \"rock\")\n",
    "      {\n",
    "        p1 <- p1 + 1\n",
    "      }\n",
    "      else if(sp2 == \"paper\")\n",
    "      {\n",
    "        p1 <- p1 + 0.5\n",
    "        p2 <- p2 + 0.5\n",
    "      }\n",
    "      else\n",
    "      {\n",
    "        p2 <- p2 + 1\n",
    "      }\n",
    "    }\n",
    "    else if(sp1 == \"scissors\")\n",
    "    {\n",
    "      if(sp2 == \"rock\")\n",
    "      {\n",
    "        p2 <- p2 + 1\n",
    "      }\n",
    "      else if(sp2 == \"paper\")\n",
    "      {\n",
    "        p1 <- p1 + 1\n",
    "      }\n",
    "      else\n",
    "      {\n",
    "        p1 <- p1 + 0.5\n",
    "        p2 <- p2 + 0.5\n",
    "      }\n",
    "    }\n",
    "    i <- i + 1\n",
    "    if(i == n)\n",
    "    {\n",
    "      return( c(p1, p2) )\n",
    "    }\n",
    "  }\n",
    "}\n",
    "\n",
    "\n",
    "#3\n",
    "set.seed(97)\n",
    "\n",
    "\n"
   ]
  },
  {
   "cell_type": "markdown",
   "metadata": {
    "tags": [
     "2018-2019-2",
     "omer",
     "medium",
     "while",
     "loops"
    ]
   },
   "source": [
    "# RANDOM STEPS"
   ]
  },
  {
   "cell_type": "markdown",
   "metadata": {},
   "source": [
    "## QUESTION"
   ]
  },
  {
   "cell_type": "markdown",
   "metadata": {},
   "source": [
    "1) Create a vector named **\"h\"** that holds numbers between 60 and 180 by 3.\n",
    "\n",
    "2) Create an empty **\"path\"** vector.\n",
    "\n",
    "3) Create a function called **\"steps\"** that randomly samples one variable from a vector \"k\" (replace = T) each time, until this value gets larger than or equal to \"limit\" argument. This function has to return the numbers as a vector in order until the given condition fulfilled.\n",
    "\n",
    "**Obligation:** You have to use while loop for this excersize\n",
    "\n",
    "4) Set seed to 1869.\n",
    "\n",
    "```r\n",
    "steps(h, 150)\n",
    "69 93 165 \n",
    "```"
   ]
  },
  {
   "cell_type": "markdown",
   "metadata": {},
   "source": [
    "## SOLUTION"
   ]
  },
  {
   "cell_type": "code",
   "execution_count": null,
   "metadata": {},
   "outputs": [],
   "source": [
    "# 1\n",
    "h <- seq(from = 60, to = 180, by = 3)\n",
    "\n",
    "# 2\n",
    "path <- c()\n",
    "\n",
    "# 3\n",
    "steps <- function(k, limit)\n",
    "{\n",
    "  y <- 0\n",
    "  while (y <= limit)\n",
    "  {\n",
    "    y <- sample(k, 1, T)\n",
    "    path <- c(path, y)\n",
    "  }\n",
    "  return(path)\n",
    "}\n",
    "\n",
    "# 4\n",
    "set.seed(1869)"
   ]
  },
  {
   "cell_type": "markdown",
   "metadata": {
    "tags": [
     "2019-2020-1",
     "omer",
     "matrices",
     "for",
     "hard"
    ]
   },
   "source": [
    "# FINDING NICKNAMES"
   ]
  },
  {
   "cell_type": "markdown",
   "metadata": {},
   "source": [
    "## QUESTION"
   ]
  },
  {
   "cell_type": "markdown",
   "metadata": {},
   "source": [
    "Mehmet wants to find interesting nicknames to use for in favorite games. He prepares a table including his nickname ideas for those games as such:\n",
    "\n",
    "|PUBG|COD|CSGO|LOL|\n",
    "|---|---|---|---|\n",
    "|DincSavasci|minikmemo7|AWPsevdalisi|Pentasiz1i|\n",
    "|dropavcisiTR|cilginhamsi61|ratata11|Oldun_CiKxd|\n",
    "|SonKalan|FazeMeMoCaN|61Memo61|MidSal61|\n",
    "|KopruYilani|droNesaVaR|YaRgiCMehMeT|6AyYildiz1|\n",
    "\n",
    "But later, he learns that each game has a character limit for nicknames so he wants to know which ideas can be used for the games they were designed for. Limit of each game are as follows:\n",
    "- PUBG: Less than 9 characters\n",
    "- COD: Not more than 11 characters\n",
    "- CSGO: Less than 9 characters\n",
    "- LOL: 10 characters or less\n",
    "\n",
    "1) Create a matrix called **\"mehmet_ideas\"** that contains Mehmet's nickname ideas as shown in the table. (Without game names)\n",
    "\n",
    "2) Create a function called **\"game_names\"** and assign it to \"mehmet_ideas\" as column names\n",
    "\n",
    "3) Create a function called **\"nick_check\"** that takes a matrix of nicknames as its argument and checks if a name can be used for the game of that column and return a new matrix as such:\n",
    "\n",
    "```r      \n",
    "nick_check(mehmet_ideas)\n",
    "\n",
    "PUBG      COD         CSGO      LOL        \n",
    "[1,] cant use minikmemo7  cant use Pentasiz1i \n",
    "[2,] cant use cant use   ratata11  Oldun_CiKxd\n",
    "[3,] SonKalan  FazeMeMoCaN 61Memo61  MidSal61   \n",
    "[4,] cant use droNesaVaR  cant use 6AyYildiz1 \n",
    "```\n",
    "\n",
    "**Hints:**\n",
    "- You can use \"nchar()\" function to find how many characters a nickname has\n",
    "- Your function should also create a vector of character limits to compare with the matrix"
   ]
  },
  {
   "cell_type": "markdown",
   "metadata": {},
   "source": [
    "## SOLUTION"
   ]
  },
  {
   "cell_type": "code",
   "execution_count": null,
   "metadata": {},
   "outputs": [],
   "source": [
    "#1\n",
    "mehmet_ideas <- matrix(c(\"DincSavasci\", \"minikmemo7\", \"AWPsevdalisi\", \"Pentasiz1i\",\n",
    "                         \"dropavcisiTR\", \"cilginhamsi61\", \"ratata11\", \"Oldun_CiKxd\",\n",
    "                         \"SonKalan\", \"FazeMeMoCaN\", \"61Memo61\", \"MidSal61\",\n",
    "                         \"KopruYilani\", \"droNesaVaR\", \"YaRgiCMehMeT\", \"6AyYildiz1\"), nrow=4, byrow=T)\n",
    "\n",
    "#2\n",
    "game_names <- c(\"PUBG\", \"COD\", \"CSGO\", \"LOL\")\n",
    "colnames(mehmet_ideas) <- game_names\n",
    "\n",
    "#3\n",
    "nick_check <- function(nick_mat)\n",
    "{\n",
    "    char_lim <- c(9, 12, 9, 11)\n",
    "    for (i in 1:NROW(nick_mat))\n",
    "    {\n",
    "       for(j in 1:NCOL(nick_mat))\n",
    "       {\n",
    "          if(nchar(nick_mat[i,j]) > char_lim[j]) \n",
    "            {\n",
    "             nick_mat[i,j] <- \"cant use\"\n",
    "            }\n",
    "       }\n",
    "    } \n",
    " return(nick_mat)\n",
    "}\n",
    "      \n",
    "nick_check(mehmet_ideas)"
   ]
  },
  {
   "cell_type": "markdown",
   "metadata": {
    "tags": [
     "2019-2020-1",
     "omer",
     "matrices",
     "cbind",
     "matrix",
     "modificaiton",
     "medium"
    ]
   },
   "source": [
    "# BAD NEWS"
   ]
  },
  {
   "cell_type": "markdown",
   "metadata": {},
   "source": [
    "## QUESTION"
   ]
  },
  {
   "cell_type": "markdown",
   "metadata": {},
   "source": [
    "Burcu learns her midterm and final scores and makes a table as such:\n",
    "\n",
    "|MATH102|PSY101|CMPE140|EC102|\n",
    "|---|---|---|---|\n",
    "|43|96|0|94|\n",
    "|32|90|10|80|\n",
    "|60|100|4|98|\n",
    "\n",
    "Then she gets an e-mail from Mert Hoca about a mistake in scoring CMPE140 exams and corrected scores. She wants to change the CMPE140 column of the table to:\n",
    "\n",
    "|CMPE140|\n",
    "|---|\n",
    "|100|\n",
    "|80|\n",
    "|90|\n",
    "\n",
    "1) Create 4 vectors containing exam scores from the first table: **\"MATH102\"**, **\"PSY101\"**, **\"CMPE140\"** and **\"EC102\"**\n",
    "\n",
    "2) Create a matrix named **\"my_scores\"** that has 4 vectors you created as columns\n",
    "\n",
    "3) Create a vector called **\"CMPE_correct\"** that contains corrected exam results \n",
    "\n",
    "4) Change the CMPE140 column of the matrix with the corrected scores as such:\n",
    "\n",
    "```r\n",
    "my_scores\n",
    "\n",
    "  MATH101 PSY101 CMPE140 EC102\n",
    "[1,] 43       96    100     94   \n",
    "[2,] 32       90     80     80   \n",
    "[3,] 60      100     90     98 \n",
    "```"
   ]
  },
  {
   "cell_type": "markdown",
   "metadata": {},
   "source": [
    "## SOLUTION"
   ]
  },
  {
   "cell_type": "code",
   "execution_count": null,
   "metadata": {},
   "outputs": [],
   "source": [
    "#1\n",
    "MATH101 <- c(43, 32, 60)\n",
    "PSY101 <- c(96, 90, 100)\n",
    "CMPE140 <- c(0, 10, 4)\n",
    "EC102 <- c(94, 80, 98)\n",
    "\n",
    "#2\n",
    "my_scores <- cbind(MATH101, PSY101, CMPE140, EC102)\n",
    "\n",
    "#3\n",
    "CMPE140_corrected <- c(100, 80, 90)\n",
    "\n",
    "#4\n",
    "my_scores[,3] <- CMPE140_corrected\n",
    "my_scores"
   ]
  },
  {
   "cell_type": "markdown",
   "metadata": {
    "tags": [
     "2019-2020",
     "omer",
     "advanced",
     "graphs",
     "hard"
    ]
   },
   "source": [
    "# BAT SIGNAL"
   ]
  },
  {
   "cell_type": "markdown",
   "metadata": {},
   "source": [
    "## QUESTION"
   ]
  },
  {
   "attachments": {
    "resim.png": {
     "image/png": "[encoded data removed]"
    }
   },
   "cell_type": "markdown",
   "metadata": {},
   "source": [
    "Gotham City is under the attack of 4 villains. You need to use the Bat Signal to summon Batman, but each villain stole a part of the signal and first you need to take those parts back and put them together to summon Batman and save the city!\n",
    "\n",
    "Bat Signal parts that you took back from villains are expressed as these functions: \n",
    "\n",
    "```r\n",
    "riddler <- function(x)\n",
    "{\n",
    "  abs(x/2)-0.0913722*(x^2)-3+sqrt(1-(abs(abs(x)-2)-1)^2)\n",
    "}\n",
    "\n",
    "penguin <- function(x)\n",
    "{\n",
    "    2*sqrt(-abs(abs(x)-1)*abs(3-abs(x))/((abs(x)-1)*(3-abs(x))))*(1+abs(abs(x)-3)/(abs(x)-3))*sqrt(1-(x/7)^2)+(5+0.97*(abs(x-0.5)+abs(x+0.5))-3*(abs(x-0.75)+abs(x+0.75)))*(1+abs(1-abs(x))/(1-abs(x)))\n",
    "}\n",
    "\n",
    "joker <- function(x)\n",
    "{\n",
    "  -3*sqrt(1-(x/7)^2)*sqrt(abs(abs(x)-4)/(abs(x)-4))\n",
    "}\n",
    "\n",
    "bane <- function(x)\n",
    "{\n",
    "  (2.71052+(1.5-0.5*abs(x))-1.35526*sqrt(4-(abs(x)-1)^2))*sqrt(abs(abs(x)-1)/(abs(x)-1))+0.9\n",
    "}\n",
    "```\n",
    "\n",
    "1) Plot all 4 of the functions together in the same image to see which villain took which part of the signal as such:\n",
    "\n",
    "![resim.png](attachment:resim.png)\n",
    "\n"
   ]
  },
  {
   "attachments": {
    "resim.png": {
     "image/png": "[encoded data removed]"
    }
   },
   "cell_type": "markdown",
   "metadata": {},
   "source": [
    "2) Plot 4 functions on top of each other to form the Bat Signal as such: \n",
    "\n",
    "![resim.png](attachment:resim.png)\n",
    "\n",
    "**Hints:** \n",
    "- You can use **par()** function and *mfcol* to set the number of graphs in a plot\n",
    "- You can use **par(new = True)** after a plot to add another plot on top of it\n",
    "- Setting the same xlim and ylim values for each plot will make it easier to fit them together\n"
   ]
  },
  {
   "cell_type": "markdown",
   "metadata": {},
   "source": [
    "## SOLUTION"
   ]
  },
  {
   "cell_type": "code",
   "execution_count": null,
   "metadata": {},
   "outputs": [],
   "source": [
    "\n",
    "riddler <- function(x)\n",
    "{\n",
    "  abs(x/2)-0.0913722*(x^2)-3+sqrt(1-(abs(abs(x)-2)-1)^2)\n",
    "}\n",
    "\n",
    "penguin <- function(x)\n",
    "{\n",
    "    2*sqrt(-abs(abs(x)-1)*abs(3-abs(x))/((abs(x)-1)*(3-abs(x))))*(1+abs(abs(x)-3)/(abs(x)-3))*sqrt(1-(x/7)^2)+(5+0.97*(abs(x-0.5)+abs(x+0.5))-3*(abs(x-0.75)+abs(x+0.75)))*(1+abs(1-abs(x))/(1-abs(x)))\n",
    "}\n",
    "\n",
    "joker <- function(x)\n",
    "{\n",
    "  -3*sqrt(1-(x/7)^2)*sqrt(abs(abs(x)-4)/(abs(x)-4))\n",
    "}\n",
    "\n",
    "bane <- function(x)\n",
    "{\n",
    "  (2.71052+(1.5-0.5*abs(x))-1.35526*sqrt(4-(abs(x)-1)^2))*sqrt(abs(abs(x)-1)/(abs(x)-1))+0.9\n",
    "}\n",
    "\n",
    "#1\n",
    "par(mfcol = c(2,2))\n",
    "plot(bane, xlim = c(-7,7), ylim = c(-10,10))\n",
    "plot(riddler, xlim = c(-7,7), ylim= c(-10,10))\n",
    "plot(joker, xlim= c(-7,7), ylim = c(-10,10))\n",
    "plot(penguin, xlim = c(-7,7), ylim = c(-10,10))\n",
    "\n",
    "#2\n",
    "par(mfcol = c(1,1))\n",
    "plot(bane, xlim = c(-7,7), ylim = c(-10,10), xlab = \"signal\", ylab = \"bat\")\n",
    "par(new = TRUE)\n",
    "plot(riddler , xlim = c(-7,7), ylim = c(-10,10), xlab = \"signal\", ylab = \"bat\")\n",
    "par(new = TRUE)\n",
    "plot(joker, xlim= c(-7,7), ylim = c(-10,10), xlab = \"signal\", ylab = \"bat\")\n",
    "par(new = TRUE)\n",
    "plot(penguin, xlim = c(-7,7), ylim = c(-10,10), xlab = \"signal\", ylab = \"bat\")\n",
    "\n"
   ]
  }
 ],
 "metadata": {
  "kernelspec": {
   "display_name": "R",
   "language": "R",
   "name": "ir"
  },
  "language_info": {
   "codemirror_mode": "r",
   "file_extension": ".r",
   "mimetype": "text/x-r-source",
   "name": "R",
   "pygments_lexer": "r",
   "version": "3.6.1"
  },
  "toc": {
   "base_numbering": 1,
   "nav_menu": {},
   "number_sections": true,
   "sideBar": true,
   "skip_h1_title": false,
   "title_cell": "Table of Contents",
   "title_sidebar": "Contents",
   "toc_cell": false,
   "toc_position": {},
   "toc_section_display": true,
   "toc_window_display": true
  }
 },
 "nbformat": 4,
 "nbformat_minor": 2
}
